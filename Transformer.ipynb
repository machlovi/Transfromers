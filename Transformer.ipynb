{
 "cells": [
  {
   "cell_type": "code",
   "execution_count": 2,
   "metadata": {},
   "outputs": [],
   "source": [
    "import torch\n",
    "import torch.nn as nn\n",
    "import math"
   ]
  },
  {
   "cell_type": "code",
   "execution_count": null,
   "metadata": {},
   "outputs": [],
   "source": [
    "class InputEmbeddings(nn.Module):\n",
    "\n",
    "    def __init__(self, d_model: int, vocab_size:int): #constructor to define the dimesion of model and vocab\n",
    "        super().__init__()\n",
    "        self.d_model = d_model\n",
    "        self.vocab_size = vocab_size\n",
    "        self.embedding = nn.Embedding(vocab_size, d_model)\n",
    "\n",
    "    def forward(self, x):\n",
    "        return self.embedding(x) * math.sqrt(self.d_model) # learnable parameter\n",
    "    \n",
    "\n"
   ]
  },
  {
   "cell_type": "code",
   "execution_count": null,
   "metadata": {},
   "outputs": [],
   "source": [
    "class PositionalEncoding(nn.Module):\n",
    "\n",
    "    def __init__(self, d_model: int,seq_len: int, dropout: float) -> None:\n",
    "        super().__init__()\n",
    "        self.d_model = d_model\n",
    "        self.seq_len = seq_len\n",
    "        self.dropout = dropout\n",
    "\n",
    "        # Initialize a matrix of shape of (seq_len, d_model)\n",
    "        pe = torch.zeros(seq_len, d_model)\n",
    "\n",
    "        # Create a vector of shape (seq_len)\n",
    "        position = torch.arange(0, seq_len, dtype=torch.float).unsqueeze(1) # This will return tensor of 2d shape by adding a dimension on the given postion \n",
    "        div_term = torch.exp(torch.arange(0, d_model, 2).float() * (-math.log(10000.0)/ d_model))\n",
    "        \n",
    "        # apply the sin to even positions and cos to odd\n",
    "        # seq_len,d_model --> seq_len,1 * 1,d_model\n",
    "        pe[:,0::2] = torch.sin(position * div_term)\n",
    "        pe[:,1::2] = torch.cos(position * div_term)\n",
    "\n",
    "        pe = pe.unsqueeze(0) #(1, seq_len, d_model) --> (seq_len, d_model) converted 2d in batch by adding batch dimension\n",
    "\n",
    "\n",
    "        self.register_buffer('pe', pe) # this allows the tensor to saved inside the model along with model state, not a learmable paramter\n",
    "\n",
    "    def forward(self, x):\n",
    "        x = x + (self.pe[:,:x.shape[1],:]).requires_grad_(False) # Adding positional embeddings to the inputs embeddings by slicing it. Since we don't need these to be trained, there requrie_grad=False\n",
    "        return self.dropout"
   ]
  },
  {
   "attachments": {
    "1_acbufFuiQ7KkXR-KcOYk6Q.webp": {
     "image/webp": "[encoded data removed]"
    }
   },
   "cell_type": "markdown",
   "metadata": {},
   "source": [
    "###  Layer Normalization \n",
    "![1_acbufFuiQ7KkXR-KcOYk6Q.webp](attachment:1_acbufFuiQ7KkXR-KcOYk6Q.webp)"
   ]
  },
  {
   "cell_type": "code",
   "execution_count": null,
   "metadata": {},
   "outputs": [],
   "source": [
    "class LayerNormalization(nn.Module):\n",
    "\n",
    "    def __init__(self, eps:float = 10**-6) -> None:\n",
    "        super().__init__()\n",
    "        self.eps = eps\n",
    "        self.alpha = nn.Parameter(torch.ones(1)) # Multiplied\n",
    "        self.bias = nn.Parameter(torch.zeros(1)) # Added\n",
    "\n",
    "    def forward(self, x):\n",
    "        mean = x.mean(dim = -1, keepdim=True)  # row wise calculation for std and mean \n",
    "        std = x.std(dim = -1, keepdim=True) \n",
    "\n",
    "        return self.alpha * (x-mean)/(std + self.eps) + self.bias\n",
    "\n"
   ]
  },
  {
   "cell_type": "code",
   "execution_count": null,
   "metadata": {},
   "outputs": [],
   "source": []
  }
 ],
 "metadata": {
  "kernelspec": {
   "display_name": "base",
   "language": "python",
   "name": "python3"
  },
  "language_info": {
   "codemirror_mode": {
    "name": "ipython",
    "version": 3
   },
   "file_extension": ".py",
   "mimetype": "text/x-python",
   "name": "python",
   "nbconvert_exporter": "python",
   "pygments_lexer": "ipython3",
   "version": "3.12.4"
  }
 },
 "nbformat": 4,
 "nbformat_minor": 2
}
